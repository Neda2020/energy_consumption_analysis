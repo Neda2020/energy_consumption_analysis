{
  "nbformat": 4,
  "nbformat_minor": 0,
  "metadata": {
    "colab": {
      "provenance": []
    },
    "kernelspec": {
      "name": "python3",
      "display_name": "Python 3"
    },
    "language_info": {
      "name": "python"
    }
  },
  "cells": [
    {
      "cell_type": "code",
      "execution_count": 1,
      "metadata": {
        "colab": {
          "base_uri": "https://localhost:8080/"
        },
        "id": "PAy35jKu-0pJ",
        "outputId": "ca7331cd-7687-472e-92b4-9ad0e4017169"
      },
      "outputs": [
        {
          "output_type": "stream",
          "name": "stdout",
          "text": [
            "Get:1 https://developer.download.nvidia.com/compute/cuda/repos/ubuntu2204/x86_64  InRelease [1,581 B]\n",
            "Get:2 http://security.ubuntu.com/ubuntu jammy-security InRelease [129 kB]\n",
            "Get:3 https://r2u.stat.illinois.edu/ubuntu jammy InRelease [6,555 B]\n",
            "Hit:4 http://archive.ubuntu.com/ubuntu jammy InRelease\n",
            "Get:5 https://cloud.r-project.org/bin/linux/ubuntu jammy-cran40/ InRelease [3,632 B]\n",
            "Get:6 http://archive.ubuntu.com/ubuntu jammy-updates InRelease [128 kB]\n",
            "Hit:7 https://ppa.launchpadcontent.net/deadsnakes/ppa/ubuntu jammy InRelease\n",
            "Hit:8 https://ppa.launchpadcontent.net/graphics-drivers/ppa/ubuntu jammy InRelease\n",
            "Get:9 https://developer.download.nvidia.com/compute/cuda/repos/ubuntu2204/x86_64  Packages [1,321 kB]\n",
            "Hit:10 https://ppa.launchpadcontent.net/ubuntugis/ppa/ubuntu jammy InRelease\n",
            "Get:11 http://archive.ubuntu.com/ubuntu jammy-backports InRelease [127 kB]\n",
            "Get:12 https://r2u.stat.illinois.edu/ubuntu jammy/main all Packages [8,705 kB]\n",
            "Get:13 https://r2u.stat.illinois.edu/ubuntu jammy/main amd64 Packages [2,662 kB]\n",
            "Get:14 http://security.ubuntu.com/ubuntu jammy-security/main amd64 Packages [2,645 kB]\n",
            "Get:15 http://security.ubuntu.com/ubuntu jammy-security/restricted amd64 Packages [3,676 kB]\n",
            "Get:16 http://archive.ubuntu.com/ubuntu jammy-updates/restricted amd64 Packages [3,824 kB]\n",
            "Get:17 http://archive.ubuntu.com/ubuntu jammy-updates/main amd64 Packages [2,955 kB]\n",
            "Get:18 http://archive.ubuntu.com/ubuntu jammy-updates/universe amd64 Packages [1,533 kB]\n",
            "Fetched 27.7 MB in 11s (2,520 kB/s)\n",
            "Reading package lists... Done\n",
            "W: Skipping acquire of configured file 'main/source/Sources' as repository 'https://r2u.stat.illinois.edu/ubuntu jammy InRelease' does not seem to provide it (sources.list entry misspelt?)\n"
          ]
        }
      ],
      "source": [
        "import os\n",
        "# Find the latest version of spark 3.x  from https://downloads.apache.org/spark/ and enter as the spark version\n",
        "# For example:\n",
        "# spark_version = 'spark-3.5.4'\n",
        "spark_version = 'spark-3.5.4'\n",
        "os.environ['SPARK_VERSION']=spark_version\n",
        "\n",
        "# Install Spark and Java\n",
        "!apt-get update\n",
        "!apt-get install openjdk-11-jdk-headless -qq > /dev/null\n",
        "!wget -q https://downloads.apache.org/spark/$SPARK_VERSION/$SPARK_VERSION-bin-hadoop3.tgz\n",
        "!tar xf $SPARK_VERSION-bin-hadoop3.tgz\n",
        "!pip install -q findspark\n",
        "\n",
        "# Set Environment Variables\n",
        "os.environ[\"JAVA_HOME\"] = \"/usr/lib/jvm/java-11-openjdk-amd64\"\n",
        "os.environ[\"SPARK_HOME\"] = f\"/content/{spark_version}-bin-hadoop3\"\n",
        "\n",
        "# Start a SparkSession\n",
        "import findspark\n",
        "findspark.init()"
      ]
    },
    {
      "cell_type": "code",
      "source": [
        "from pyspark.sql import SparkSession\n",
        "spark = SparkSession.builder.appName(\"ReadParquet\").getOrCreate()"
      ],
      "metadata": {
        "id": "KJk_kNQi--uX"
      },
      "execution_count": 2,
      "outputs": []
    },
    {
      "cell_type": "code",
      "source": [
        "from google.colab import drive\n",
        "drive.mount('/content/drive')"
      ],
      "metadata": {
        "colab": {
          "base_uri": "https://localhost:8080/"
        },
        "id": "sCiWSaEP_CRN",
        "outputId": "744d6707-ca79-4db3-cb65-6eaecb3cc7f6"
      },
      "execution_count": 3,
      "outputs": [
        {
          "output_type": "stream",
          "name": "stdout",
          "text": [
            "Mounted at /content/drive\n"
          ]
        }
      ]
    },
    {
      "cell_type": "code",
      "source": [
        "import pandas as pd\n",
        "\n",
        "# Assuming the path to the Parquet file is correct and verified\n",
        "file_path = '/content/drive/My Drive/TeamFiles/cleaned_data.parquet'\n",
        "\n",
        "# Load the Parquet file into a Pandas DataFrame\n",
        "df = pd.read_parquet(file_path)\n",
        "\n",
        "# Show the first few rows of the DataFrame to confirm it's loaded correctly\n",
        "print(df.head())\n"
      ],
      "metadata": {
        "colab": {
          "base_uri": "https://localhost:8080/"
        },
        "id": "jL4ofU62_OLP",
        "outputId": "99807a1e-e4ab-43fd-cf44-7dd88cc836c6"
      },
      "execution_count": 4,
      "outputs": [
        {
          "output_type": "stream",
          "name": "stdout",
          "text": [
            "   FSA        DATE  HOUR CUSTOMER_TYPE PRICE_PLAN  TOTAL_CONSUMPTION  \\\n",
            "0  M1V  2024-07-01     1     SGS <50kW     Tiered             3125.6   \n",
            "1  L7M  2024-07-01     1     SGS <50kW        TOU             1563.8   \n",
            "2  L9W  2024-07-01     1   Residential     Tiered              925.0   \n",
            "3  M2J  2024-07-01     1     SGS <50kW     Tiered              598.0   \n",
            "4  K2C  2024-07-01     1   Residential        TOU             5095.2   \n",
            "\n",
            "   PREMISE_COUNT  AVG_CONSUMPTION_PER_PREMISE  YEAR  MONTH  DAY  \n",
            "0           1716                     1.821445  2024      7    1  \n",
            "1            683                     2.289605  2024      7    1  \n",
            "2           1232                     0.750812  2024      7    1  \n",
            "3            267                     2.239700  2024      7    1  \n",
            "4           7714                     0.660513  2024      7    1  \n"
          ]
        }
      ]
    },
    {
      "cell_type": "code",
      "source": [
        "df.head()"
      ],
      "metadata": {
        "colab": {
          "base_uri": "https://localhost:8080/",
          "height": 206
        },
        "id": "o0d6Co9v_lka",
        "outputId": "3fbf5d9c-c060-4561-c4c0-ba71d507254b"
      },
      "execution_count": 7,
      "outputs": [
        {
          "output_type": "execute_result",
          "data": {
            "text/plain": [
              "   FSA        DATE  HOUR CUSTOMER_TYPE PRICE_PLAN  TOTAL_CONSUMPTION  \\\n",
              "0  M1V  2024-07-01     1     SGS <50kW     Tiered             3125.6   \n",
              "1  L7M  2024-07-01     1     SGS <50kW        TOU             1563.8   \n",
              "2  L9W  2024-07-01     1   Residential     Tiered              925.0   \n",
              "3  M2J  2024-07-01     1     SGS <50kW     Tiered              598.0   \n",
              "4  K2C  2024-07-01     1   Residential        TOU             5095.2   \n",
              "\n",
              "   PREMISE_COUNT  AVG_CONSUMPTION_PER_PREMISE  YEAR  MONTH  DAY  \n",
              "0           1716                     1.821445  2024      7    1  \n",
              "1            683                     2.289605  2024      7    1  \n",
              "2           1232                     0.750812  2024      7    1  \n",
              "3            267                     2.239700  2024      7    1  \n",
              "4           7714                     0.660513  2024      7    1  "
            ],
            "text/html": [
              "\n",
              "  <div id=\"df-5837d7b7-2d55-461e-8a3a-d54bfa27a382\" class=\"colab-df-container\">\n",
              "    <div>\n",
              "<style scoped>\n",
              "    .dataframe tbody tr th:only-of-type {\n",
              "        vertical-align: middle;\n",
              "    }\n",
              "\n",
              "    .dataframe tbody tr th {\n",
              "        vertical-align: top;\n",
              "    }\n",
              "\n",
              "    .dataframe thead th {\n",
              "        text-align: right;\n",
              "    }\n",
              "</style>\n",
              "<table border=\"1\" class=\"dataframe\">\n",
              "  <thead>\n",
              "    <tr style=\"text-align: right;\">\n",
              "      <th></th>\n",
              "      <th>FSA</th>\n",
              "      <th>DATE</th>\n",
              "      <th>HOUR</th>\n",
              "      <th>CUSTOMER_TYPE</th>\n",
              "      <th>PRICE_PLAN</th>\n",
              "      <th>TOTAL_CONSUMPTION</th>\n",
              "      <th>PREMISE_COUNT</th>\n",
              "      <th>AVG_CONSUMPTION_PER_PREMISE</th>\n",
              "      <th>YEAR</th>\n",
              "      <th>MONTH</th>\n",
              "      <th>DAY</th>\n",
              "    </tr>\n",
              "  </thead>\n",
              "  <tbody>\n",
              "    <tr>\n",
              "      <th>0</th>\n",
              "      <td>M1V</td>\n",
              "      <td>2024-07-01</td>\n",
              "      <td>1</td>\n",
              "      <td>SGS &lt;50kW</td>\n",
              "      <td>Tiered</td>\n",
              "      <td>3125.6</td>\n",
              "      <td>1716</td>\n",
              "      <td>1.821445</td>\n",
              "      <td>2024</td>\n",
              "      <td>7</td>\n",
              "      <td>1</td>\n",
              "    </tr>\n",
              "    <tr>\n",
              "      <th>1</th>\n",
              "      <td>L7M</td>\n",
              "      <td>2024-07-01</td>\n",
              "      <td>1</td>\n",
              "      <td>SGS &lt;50kW</td>\n",
              "      <td>TOU</td>\n",
              "      <td>1563.8</td>\n",
              "      <td>683</td>\n",
              "      <td>2.289605</td>\n",
              "      <td>2024</td>\n",
              "      <td>7</td>\n",
              "      <td>1</td>\n",
              "    </tr>\n",
              "    <tr>\n",
              "      <th>2</th>\n",
              "      <td>L9W</td>\n",
              "      <td>2024-07-01</td>\n",
              "      <td>1</td>\n",
              "      <td>Residential</td>\n",
              "      <td>Tiered</td>\n",
              "      <td>925.0</td>\n",
              "      <td>1232</td>\n",
              "      <td>0.750812</td>\n",
              "      <td>2024</td>\n",
              "      <td>7</td>\n",
              "      <td>1</td>\n",
              "    </tr>\n",
              "    <tr>\n",
              "      <th>3</th>\n",
              "      <td>M2J</td>\n",
              "      <td>2024-07-01</td>\n",
              "      <td>1</td>\n",
              "      <td>SGS &lt;50kW</td>\n",
              "      <td>Tiered</td>\n",
              "      <td>598.0</td>\n",
              "      <td>267</td>\n",
              "      <td>2.239700</td>\n",
              "      <td>2024</td>\n",
              "      <td>7</td>\n",
              "      <td>1</td>\n",
              "    </tr>\n",
              "    <tr>\n",
              "      <th>4</th>\n",
              "      <td>K2C</td>\n",
              "      <td>2024-07-01</td>\n",
              "      <td>1</td>\n",
              "      <td>Residential</td>\n",
              "      <td>TOU</td>\n",
              "      <td>5095.2</td>\n",
              "      <td>7714</td>\n",
              "      <td>0.660513</td>\n",
              "      <td>2024</td>\n",
              "      <td>7</td>\n",
              "      <td>1</td>\n",
              "    </tr>\n",
              "  </tbody>\n",
              "</table>\n",
              "</div>\n",
              "    <div class=\"colab-df-buttons\">\n",
              "\n",
              "  <div class=\"colab-df-container\">\n",
              "    <button class=\"colab-df-convert\" onclick=\"convertToInteractive('df-5837d7b7-2d55-461e-8a3a-d54bfa27a382')\"\n",
              "            title=\"Convert this dataframe to an interactive table.\"\n",
              "            style=\"display:none;\">\n",
              "\n",
              "  <svg xmlns=\"http://www.w3.org/2000/svg\" height=\"24px\" viewBox=\"0 -960 960 960\">\n",
              "    <path d=\"M120-120v-720h720v720H120Zm60-500h600v-160H180v160Zm220 220h160v-160H400v160Zm0 220h160v-160H400v160ZM180-400h160v-160H180v160Zm440 0h160v-160H620v160ZM180-180h160v-160H180v160Zm440 0h160v-160H620v160Z\"/>\n",
              "  </svg>\n",
              "    </button>\n",
              "\n",
              "  <style>\n",
              "    .colab-df-container {\n",
              "      display:flex;\n",
              "      gap: 12px;\n",
              "    }\n",
              "\n",
              "    .colab-df-convert {\n",
              "      background-color: #E8F0FE;\n",
              "      border: none;\n",
              "      border-radius: 50%;\n",
              "      cursor: pointer;\n",
              "      display: none;\n",
              "      fill: #1967D2;\n",
              "      height: 32px;\n",
              "      padding: 0 0 0 0;\n",
              "      width: 32px;\n",
              "    }\n",
              "\n",
              "    .colab-df-convert:hover {\n",
              "      background-color: #E2EBFA;\n",
              "      box-shadow: 0px 1px 2px rgba(60, 64, 67, 0.3), 0px 1px 3px 1px rgba(60, 64, 67, 0.15);\n",
              "      fill: #174EA6;\n",
              "    }\n",
              "\n",
              "    .colab-df-buttons div {\n",
              "      margin-bottom: 4px;\n",
              "    }\n",
              "\n",
              "    [theme=dark] .colab-df-convert {\n",
              "      background-color: #3B4455;\n",
              "      fill: #D2E3FC;\n",
              "    }\n",
              "\n",
              "    [theme=dark] .colab-df-convert:hover {\n",
              "      background-color: #434B5C;\n",
              "      box-shadow: 0px 1px 3px 1px rgba(0, 0, 0, 0.15);\n",
              "      filter: drop-shadow(0px 1px 2px rgba(0, 0, 0, 0.3));\n",
              "      fill: #FFFFFF;\n",
              "    }\n",
              "  </style>\n",
              "\n",
              "    <script>\n",
              "      const buttonEl =\n",
              "        document.querySelector('#df-5837d7b7-2d55-461e-8a3a-d54bfa27a382 button.colab-df-convert');\n",
              "      buttonEl.style.display =\n",
              "        google.colab.kernel.accessAllowed ? 'block' : 'none';\n",
              "\n",
              "      async function convertToInteractive(key) {\n",
              "        const element = document.querySelector('#df-5837d7b7-2d55-461e-8a3a-d54bfa27a382');\n",
              "        const dataTable =\n",
              "          await google.colab.kernel.invokeFunction('convertToInteractive',\n",
              "                                                    [key], {});\n",
              "        if (!dataTable) return;\n",
              "\n",
              "        const docLinkHtml = 'Like what you see? Visit the ' +\n",
              "          '<a target=\"_blank\" href=https://colab.research.google.com/notebooks/data_table.ipynb>data table notebook</a>'\n",
              "          + ' to learn more about interactive tables.';\n",
              "        element.innerHTML = '';\n",
              "        dataTable['output_type'] = 'display_data';\n",
              "        await google.colab.output.renderOutput(dataTable, element);\n",
              "        const docLink = document.createElement('div');\n",
              "        docLink.innerHTML = docLinkHtml;\n",
              "        element.appendChild(docLink);\n",
              "      }\n",
              "    </script>\n",
              "  </div>\n",
              "\n",
              "\n",
              "<div id=\"df-46d16ad1-72bc-41cb-8f34-85e3796ae02e\">\n",
              "  <button class=\"colab-df-quickchart\" onclick=\"quickchart('df-46d16ad1-72bc-41cb-8f34-85e3796ae02e')\"\n",
              "            title=\"Suggest charts\"\n",
              "            style=\"display:none;\">\n",
              "\n",
              "<svg xmlns=\"http://www.w3.org/2000/svg\" height=\"24px\"viewBox=\"0 0 24 24\"\n",
              "     width=\"24px\">\n",
              "    <g>\n",
              "        <path d=\"M19 3H5c-1.1 0-2 .9-2 2v14c0 1.1.9 2 2 2h14c1.1 0 2-.9 2-2V5c0-1.1-.9-2-2-2zM9 17H7v-7h2v7zm4 0h-2V7h2v10zm4 0h-2v-4h2v4z\"/>\n",
              "    </g>\n",
              "</svg>\n",
              "  </button>\n",
              "\n",
              "<style>\n",
              "  .colab-df-quickchart {\n",
              "      --bg-color: #E8F0FE;\n",
              "      --fill-color: #1967D2;\n",
              "      --hover-bg-color: #E2EBFA;\n",
              "      --hover-fill-color: #174EA6;\n",
              "      --disabled-fill-color: #AAA;\n",
              "      --disabled-bg-color: #DDD;\n",
              "  }\n",
              "\n",
              "  [theme=dark] .colab-df-quickchart {\n",
              "      --bg-color: #3B4455;\n",
              "      --fill-color: #D2E3FC;\n",
              "      --hover-bg-color: #434B5C;\n",
              "      --hover-fill-color: #FFFFFF;\n",
              "      --disabled-bg-color: #3B4455;\n",
              "      --disabled-fill-color: #666;\n",
              "  }\n",
              "\n",
              "  .colab-df-quickchart {\n",
              "    background-color: var(--bg-color);\n",
              "    border: none;\n",
              "    border-radius: 50%;\n",
              "    cursor: pointer;\n",
              "    display: none;\n",
              "    fill: var(--fill-color);\n",
              "    height: 32px;\n",
              "    padding: 0;\n",
              "    width: 32px;\n",
              "  }\n",
              "\n",
              "  .colab-df-quickchart:hover {\n",
              "    background-color: var(--hover-bg-color);\n",
              "    box-shadow: 0 1px 2px rgba(60, 64, 67, 0.3), 0 1px 3px 1px rgba(60, 64, 67, 0.15);\n",
              "    fill: var(--button-hover-fill-color);\n",
              "  }\n",
              "\n",
              "  .colab-df-quickchart-complete:disabled,\n",
              "  .colab-df-quickchart-complete:disabled:hover {\n",
              "    background-color: var(--disabled-bg-color);\n",
              "    fill: var(--disabled-fill-color);\n",
              "    box-shadow: none;\n",
              "  }\n",
              "\n",
              "  .colab-df-spinner {\n",
              "    border: 2px solid var(--fill-color);\n",
              "    border-color: transparent;\n",
              "    border-bottom-color: var(--fill-color);\n",
              "    animation:\n",
              "      spin 1s steps(1) infinite;\n",
              "  }\n",
              "\n",
              "  @keyframes spin {\n",
              "    0% {\n",
              "      border-color: transparent;\n",
              "      border-bottom-color: var(--fill-color);\n",
              "      border-left-color: var(--fill-color);\n",
              "    }\n",
              "    20% {\n",
              "      border-color: transparent;\n",
              "      border-left-color: var(--fill-color);\n",
              "      border-top-color: var(--fill-color);\n",
              "    }\n",
              "    30% {\n",
              "      border-color: transparent;\n",
              "      border-left-color: var(--fill-color);\n",
              "      border-top-color: var(--fill-color);\n",
              "      border-right-color: var(--fill-color);\n",
              "    }\n",
              "    40% {\n",
              "      border-color: transparent;\n",
              "      border-right-color: var(--fill-color);\n",
              "      border-top-color: var(--fill-color);\n",
              "    }\n",
              "    60% {\n",
              "      border-color: transparent;\n",
              "      border-right-color: var(--fill-color);\n",
              "    }\n",
              "    80% {\n",
              "      border-color: transparent;\n",
              "      border-right-color: var(--fill-color);\n",
              "      border-bottom-color: var(--fill-color);\n",
              "    }\n",
              "    90% {\n",
              "      border-color: transparent;\n",
              "      border-bottom-color: var(--fill-color);\n",
              "    }\n",
              "  }\n",
              "</style>\n",
              "\n",
              "  <script>\n",
              "    async function quickchart(key) {\n",
              "      const quickchartButtonEl =\n",
              "        document.querySelector('#' + key + ' button');\n",
              "      quickchartButtonEl.disabled = true;  // To prevent multiple clicks.\n",
              "      quickchartButtonEl.classList.add('colab-df-spinner');\n",
              "      try {\n",
              "        const charts = await google.colab.kernel.invokeFunction(\n",
              "            'suggestCharts', [key], {});\n",
              "      } catch (error) {\n",
              "        console.error('Error during call to suggestCharts:', error);\n",
              "      }\n",
              "      quickchartButtonEl.classList.remove('colab-df-spinner');\n",
              "      quickchartButtonEl.classList.add('colab-df-quickchart-complete');\n",
              "    }\n",
              "    (() => {\n",
              "      let quickchartButtonEl =\n",
              "        document.querySelector('#df-46d16ad1-72bc-41cb-8f34-85e3796ae02e button');\n",
              "      quickchartButtonEl.style.display =\n",
              "        google.colab.kernel.accessAllowed ? 'block' : 'none';\n",
              "    })();\n",
              "  </script>\n",
              "</div>\n",
              "\n",
              "    </div>\n",
              "  </div>\n"
            ],
            "application/vnd.google.colaboratory.intrinsic+json": {
              "type": "dataframe",
              "variable_name": "df"
            }
          },
          "metadata": {},
          "execution_count": 7
        }
      ]
    },
    {
      "cell_type": "code",
      "source": [
        "print(df.info())"
      ],
      "metadata": {
        "colab": {
          "base_uri": "https://localhost:8080/"
        },
        "id": "CMoBvUWD_T60",
        "outputId": "892bed6b-e6df-4b6d-94e9-23a8d9869c60"
      },
      "execution_count": 5,
      "outputs": [
        {
          "output_type": "stream",
          "name": "stdout",
          "text": [
            "<class 'pandas.core.frame.DataFrame'>\n",
            "RangeIndex: 4180454 entries, 0 to 4180453\n",
            "Data columns (total 11 columns):\n",
            " #   Column                       Dtype  \n",
            "---  ------                       -----  \n",
            " 0   FSA                          object \n",
            " 1   DATE                         object \n",
            " 2   HOUR                         int32  \n",
            " 3   CUSTOMER_TYPE                object \n",
            " 4   PRICE_PLAN                   object \n",
            " 5   TOTAL_CONSUMPTION            float64\n",
            " 6   PREMISE_COUNT                int32  \n",
            " 7   AVG_CONSUMPTION_PER_PREMISE  float64\n",
            " 8   YEAR                         int32  \n",
            " 9   MONTH                        int32  \n",
            " 10  DAY                          int32  \n",
            "dtypes: float64(2), int32(5), object(4)\n",
            "memory usage: 271.1+ MB\n",
            "None\n"
          ]
        }
      ]
    },
    {
      "cell_type": "code",
      "source": [
        "print(df.describe())"
      ],
      "metadata": {
        "colab": {
          "base_uri": "https://localhost:8080/"
        },
        "id": "mj9K2p-y_i4f",
        "outputId": "6bc4f05a-b580-4881-cbeb-e21652db3dbb"
      },
      "execution_count": 6,
      "outputs": [
        {
          "output_type": "stream",
          "name": "stdout",
          "text": [
            "               HOUR  TOTAL_CONSUMPTION  PREMISE_COUNT  \\\n",
            "count  4.180454e+06       4.180454e+06   4.180454e+06   \n",
            "mean   1.250997e+01       3.164949e+03   2.703736e+03   \n",
            "std    6.918893e+00       6.487756e+03   5.538298e+03   \n",
            "min    1.000000e+00       4.000000e-01   1.500000e+01   \n",
            "25%    7.000000e+00       3.483000e+02   2.020000e+02   \n",
            "50%    1.300000e+01       9.982000e+02   6.470000e+02   \n",
            "75%    1.800000e+01       3.547000e+03   2.545000e+03   \n",
            "max    2.400000e+01       3.287661e+05   1.440450e+05   \n",
            "\n",
            "       AVG_CONSUMPTION_PER_PREMISE       YEAR         MONTH           DAY  \n",
            "count                 4.180454e+06  4180454.0  4.180454e+06  4.180454e+06  \n",
            "mean                  1.970409e+00     2024.0  7.345805e+00  1.566844e+01  \n",
            "std                   1.709853e+00        0.0  2.846519e+00  8.758393e+00  \n",
            "min                   2.075812e-03     2024.0  4.000000e+00  1.000000e+00  \n",
            "25%                   8.160665e-01     2024.0  4.000000e+00  8.000000e+00  \n",
            "50%                   1.293231e+00     2024.0  7.000000e+00  1.600000e+01  \n",
            "75%                   2.604560e+00     2024.0  1.100000e+01  2.300000e+01  \n",
            "max                   1.904091e+01     2024.0  1.100000e+01  3.100000e+01  \n"
          ]
        }
      ]
    },
    {
      "cell_type": "code",
      "source": [
        "import seaborn as sns\n",
        "import matplotlib.pyplot as plt\n",
        "\n",
        "# Setting aesthetic parameters\n",
        "sns.set(style=\"whitegrid\")\n",
        "\n",
        "# Visualizing the distribution of 'TOTAL_CONSUMPTION'\n",
        "plt.figure(figsize=(10, 6))\n",
        "sns.histplot(df['TOTAL_CONSUMPTION'], kde=True)\n",
        "plt.title('Distribution of Total Consumption')\n",
        "plt.show()\n"
      ],
      "metadata": {
        "colab": {
          "base_uri": "https://localhost:8080/",
          "height": 573
        },
        "id": "N_9ngsCU_o7X",
        "outputId": "7ee6acbc-a018-41fa-db0e-3bc59fb6721e"
      },
      "execution_count": 11,
      "outputs": [
        {
          "output_type": "display_data",
          "data": {
            "text/plain": [
              "<Figure size 1000x600 with 1 Axes>"
            ],
            "image/png": "[encoded data removed]"
          },
          "metadata": {}
        }
      ]
    },
    {
      "cell_type": "code",
      "source": [
        "# Calculate correlation matrix\n",
        "correlation_matrix = df[['TOTAL_CONSUMPTION', 'PREMISE_COUNT', 'AVG_CONSUMPTION_PER_PREMISE']].corr()\n",
        "\n",
        "# Plotting the correlation matrix\n",
        "plt.figure(figsize=(8, 6))\n",
        "sns.heatmap(correlation_matrix, annot=True, cmap='coolwarm', fmt=\".2f\")\n",
        "plt.title('Correlation Matrix')\n",
        "plt.show()\n"
      ],
      "metadata": {
        "colab": {
          "base_uri": "https://localhost:8080/",
          "height": 799
        },
        "id": "10YgF9glAG3o",
        "outputId": "82f049cd-6247-4acd-e13f-b7f10c181906"
      },
      "execution_count": 10,
      "outputs": [
        {
          "output_type": "display_data",
          "data": {
            "text/plain": [
              "<Figure size 800x600 with 2 Axes>"
            ],
            "image/png": "[encoded data removed]"
          },
          "metadata": {}
        }
      ]
    }
  ]
}