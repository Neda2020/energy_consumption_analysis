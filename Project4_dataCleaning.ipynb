{
  "nbformat": 4,
  "nbformat_minor": 0,
  "metadata": {
    "colab": {
      "provenance": []
    },
    "kernelspec": {
      "name": "python3",
      "display_name": "Python 3"
    },
    "language_info": {
      "name": "python"
    }
  },
  "cells": [
    {
      "cell_type": "code",
      "execution_count": 114,
      "metadata": {
        "colab": {
          "base_uri": "https://localhost:8080/"
        },
        "id": "_04Wn365RNQb",
        "outputId": "c7c08872-bc0a-41bf-ec40-d3d8510be7c4"
      },
      "outputs": [
        {
          "output_type": "stream",
          "name": "stdout",
          "text": [
            "\r0% [Working]\r            \rHit:1 https://cloud.r-project.org/bin/linux/ubuntu jammy-cran40/ InRelease\n",
            "Hit:2 https://developer.download.nvidia.com/compute/cuda/repos/ubuntu2204/x86_64  InRelease\n",
            "Get:3 http://security.ubuntu.com/ubuntu jammy-security InRelease [129 kB]\n",
            "Hit:4 https://r2u.stat.illinois.edu/ubuntu jammy InRelease\n",
            "Hit:5 http://archive.ubuntu.com/ubuntu jammy InRelease\n",
            "Get:6 http://archive.ubuntu.com/ubuntu jammy-updates InRelease [128 kB]\n",
            "Hit:7 https://ppa.launchpadcontent.net/deadsnakes/ppa/ubuntu jammy InRelease\n",
            "Hit:8 https://ppa.launchpadcontent.net/graphics-drivers/ppa/ubuntu jammy InRelease\n",
            "Hit:9 https://ppa.launchpadcontent.net/ubuntugis/ppa/ubuntu jammy InRelease\n",
            "Get:10 http://archive.ubuntu.com/ubuntu jammy-backports InRelease [127 kB]\n",
            "Fetched 384 kB in 2s (245 kB/s)\n",
            "Reading package lists... Done\n",
            "W: Skipping acquire of configured file 'main/source/Sources' as repository 'https://r2u.stat.illinois.edu/ubuntu jammy InRelease' does not seem to provide it (sources.list entry misspelt?)\n"
          ]
        }
      ],
      "source": [
        "import os\n",
        "# Find the latest version of spark 3.x  from https://downloads.apache.org/spark/ and enter as the spark version\n",
        "# For example:\n",
        "# spark_version = 'spark-3.5.4'\n",
        "spark_version = 'spark-3.5.4'\n",
        "os.environ['SPARK_VERSION']=spark_version\n",
        "\n",
        "# Install Spark and Java\n",
        "!apt-get update\n",
        "!apt-get install openjdk-11-jdk-headless -qq > /dev/null\n",
        "!wget -q https://downloads.apache.org/spark/$SPARK_VERSION/$SPARK_VERSION-bin-hadoop3.tgz\n",
        "!tar xf $SPARK_VERSION-bin-hadoop3.tgz\n",
        "!pip install -q findspark\n",
        "\n",
        "# Set Environment Variables\n",
        "os.environ[\"JAVA_HOME\"] = \"/usr/lib/jvm/java-11-openjdk-amd64\"\n",
        "os.environ[\"SPARK_HOME\"] = f\"/content/{spark_version}-bin-hadoop3\"\n",
        "\n",
        "# Start a SparkSession\n",
        "import findspark\n",
        "findspark.init()"
      ]
    },
    {
      "cell_type": "code",
      "source": [
        "!wget -O PUB_HourlyConsumptionByFSA_202411_v1.csv \"https://drive.google.com/uc?id=1uVGnVBo7pOMzKj4stuwy88xjsdzxeMun&export=download\"\n"
      ],
      "metadata": {
        "colab": {
          "base_uri": "https://localhost:8080/"
        },
        "id": "8DP0bu98YpLr",
        "outputId": "9deffa6c-80c7-4067-b1ae-e0ed321b9f80"
      },
      "execution_count": 115,
      "outputs": [
        {
          "output_type": "stream",
          "name": "stdout",
          "text": [
            "--2025-02-16 16:31:17--  https://drive.google.com/uc?id=1uVGnVBo7pOMzKj4stuwy88xjsdzxeMun&export=download\n",
            "Resolving drive.google.com (drive.google.com)... 74.125.195.101, 74.125.195.102, 74.125.195.139, ...\n",
            "Connecting to drive.google.com (drive.google.com)|74.125.195.101|:443... connected.\n",
            "HTTP request sent, awaiting response... 303 See Other\n",
            "Location: https://drive.usercontent.google.com/download?id=1uVGnVBo7pOMzKj4stuwy88xjsdzxeMun&export=download [following]\n",
            "--2025-02-16 16:31:17--  https://drive.usercontent.google.com/download?id=1uVGnVBo7pOMzKj4stuwy88xjsdzxeMun&export=download\n",
            "Resolving drive.usercontent.google.com (drive.usercontent.google.com)... 74.125.142.132, 2607:f8b0:400e:c08::84\n",
            "Connecting to drive.usercontent.google.com (drive.usercontent.google.com)|74.125.142.132|:443... connected.\n",
            "HTTP request sent, awaiting response... 200 OK\n",
            "Length: 12918841 (12M) [application/octet-stream]\n",
            "Saving to: ‘PUB_HourlyConsumptionByFSA_202411_v1.csv’\n",
            "\n",
            "PUB_HourlyConsumpti 100%[===================>]  12.32M  --.-KB/s    in 0.1s    \n",
            "\n",
            "2025-02-16 16:31:24 (110 MB/s) - ‘PUB_HourlyConsumptionByFSA_202411_v1.csv’ saved [12918841/12918841]\n",
            "\n"
          ]
        }
      ]
    },
    {
      "cell_type": "code",
      "source": [
        "!file PUB_HourlyConsumptionByFSA_202411_v1.csv"
      ],
      "metadata": {
        "colab": {
          "base_uri": "https://localhost:8080/"
        },
        "id": "WeBOFf4ObimY",
        "outputId": "79cf097f-6f27-4902-b431-d096bd6a1e3e"
      },
      "execution_count": 116,
      "outputs": [
        {
          "output_type": "stream",
          "name": "stdout",
          "text": [
            "PUB_HourlyConsumptionByFSA_202411_v1.csv: Zip archive data, at least v2.0 to extract, compression method=deflate\n"
          ]
        }
      ]
    },
    {
      "cell_type": "code",
      "source": [
        "!mv PUB_HourlyConsumptionByFSA_202411_v1.csv PUB_HourlyConsumptionByFSA_202411_v1.zip\n",
        "!unzip PUB_HourlyConsumptionByFSA_202411_v1.zip -d /content\n"
      ],
      "metadata": {
        "colab": {
          "base_uri": "https://localhost:8080/"
        },
        "id": "kGU6OFo6bnUj",
        "outputId": "b9619756-e5f9-4ce1-cfb4-512c3f7ff924"
      },
      "execution_count": 117,
      "outputs": [
        {
          "output_type": "stream",
          "name": "stdout",
          "text": [
            "Archive:  PUB_HourlyConsumptionByFSA_202411_v1.zip\n",
            "  inflating: /content/PUB_HourlyConsumptionByFSA_202411_v1.csv  \n"
          ]
        }
      ]
    },
    {
      "cell_type": "code",
      "source": [
        "!tail -n +4 PUB_HourlyConsumptionByFSA_202411_v1.csv > november_data.csv\n"
      ],
      "metadata": {
        "id": "BZT_3hnEhwV2"
      },
      "execution_count": 118,
      "outputs": []
    },
    {
      "cell_type": "code",
      "source": [
        "!ls"
      ],
      "metadata": {
        "colab": {
          "base_uri": "https://localhost:8080/"
        },
        "id": "7ehd3AIuh2v8",
        "outputId": "1d1e2ec8-2667-4d7a-8e82-e6aa58821ae9"
      },
      "execution_count": 119,
      "outputs": [
        {
          "output_type": "stream",
          "name": "stdout",
          "text": [
            "november_data.csv\t\t\t  spark-3.5.4-bin-hadoop3\n",
            "PUB_HourlyConsumptionByFSA_202411_v1.csv  spark-3.5.4-bin-hadoop3.tgz\n",
            "PUB_HourlyConsumptionByFSA_202411_v1.zip  spark-3.5.4-bin-hadoop3.tgz.1\n",
            "sample_data\t\t\t\t  spark-3.5.4-bin-hadoop3.tgz.2\n"
          ]
        }
      ]
    },
    {
      "cell_type": "code",
      "source": [
        "!head november_data.csv\n"
      ],
      "metadata": {
        "colab": {
          "base_uri": "https://localhost:8080/"
        },
        "id": "CGZTnucIb-So",
        "outputId": "015a3c69-edc9-418c-a336-00462b96f3b1"
      },
      "execution_count": 120,
      "outputs": [
        {
          "output_type": "stream",
          "name": "stdout",
          "text": [
            "FSA,DATE,HOUR,CUSTOMER_TYPE,PRICE_PLAN,TOTAL_CONSUMPTION,PREMISE_COUNT\n",
            "L6R,2024-11-01,1,Residential,Tiered,697.2,1177\n",
            "N6C,2024-11-01,1,Residential,Tiered,850.9,1832\n",
            "N9,2024-11-01,1,SGS <50kW,Retailer,1773.6,360\n",
            "M3K,2024-11-01,1,SGS <50kW,TOU,267.4,283\n",
            "L7A,2024-11-01,1,SGS <50kW,Retailer,278.1,58\n",
            "M5G,2024-11-01,1,Residential,ULO,9.5,25\n",
            "K1E,2024-11-01,1,SGS <50kW,TOU,133.4,85\n",
            "M1R,2024-11-01,1,SGS <50kW,Tiered,1239.3,442\n",
            "M4N,2024-11-01,1,Residential,Tiered,318.1,624\n"
          ]
        }
      ]
    },
    {
      "cell_type": "code",
      "source": [
        "import os\n",
        "file_path_11 = os.path.abspath(\"november_data.csv\")\n",
        "print(file_path_11)\n"
      ],
      "metadata": {
        "colab": {
          "base_uri": "https://localhost:8080/"
        },
        "id": "wEhZqKIBc3oD",
        "outputId": "be4b1acd-63d9-43bb-fa06-4283c6d2b98b"
      },
      "execution_count": 121,
      "outputs": [
        {
          "output_type": "stream",
          "name": "stdout",
          "text": [
            "/content/november_data.csv\n"
          ]
        }
      ]
    },
    {
      "cell_type": "code",
      "source": [
        "!ls /content\n"
      ],
      "metadata": {
        "colab": {
          "base_uri": "https://localhost:8080/"
        },
        "id": "ThcP9_eSgBEh",
        "outputId": "7df177b4-70ff-4d13-cf1b-0213bf0149f1"
      },
      "execution_count": 122,
      "outputs": [
        {
          "output_type": "stream",
          "name": "stdout",
          "text": [
            "november_data.csv\t\t\t  spark-3.5.4-bin-hadoop3\n",
            "PUB_HourlyConsumptionByFSA_202411_v1.csv  spark-3.5.4-bin-hadoop3.tgz\n",
            "PUB_HourlyConsumptionByFSA_202411_v1.zip  spark-3.5.4-bin-hadoop3.tgz.1\n",
            "sample_data\t\t\t\t  spark-3.5.4-bin-hadoop3.tgz.2\n"
          ]
        }
      ]
    },
    {
      "cell_type": "code",
      "source": [
        "!rm -rf /tmp/spark*\n"
      ],
      "metadata": {
        "id": "z7tcp34Kgi2P"
      },
      "execution_count": 123,
      "outputs": []
    },
    {
      "cell_type": "code",
      "source": [
        "import os\n",
        "file_path = os.path.abspath(\"november_data.csv\")\n",
        "print(file_path)\n"
      ],
      "metadata": {
        "colab": {
          "base_uri": "https://localhost:8080/"
        },
        "id": "S9HpOP2JgpJK",
        "outputId": "e91953bf-bc0d-44f6-df75-60d40d165f1b"
      },
      "execution_count": 124,
      "outputs": [
        {
          "output_type": "stream",
          "name": "stdout",
          "text": [
            "/content/november_data.csv\n"
          ]
        }
      ]
    },
    {
      "cell_type": "code",
      "source": [
        "from pyspark.sql import SparkSession\n",
        "\n",
        "# Stop the existing session\n",
        "spark.stop()\n",
        "\n",
        "# Recreate the Spark session\n",
        "spark = SparkSession.builder.appName(\"CleanFileLoad\").getOrCreate()\n"
      ],
      "metadata": {
        "id": "MMbdRNUEgu0v"
      },
      "execution_count": 125,
      "outputs": []
    },
    {
      "cell_type": "code",
      "source": [
        "df_11 = spark.read.csv(file_path, sep=\",\", inferSchema=True, header=True)\n",
        "df_11.show(5)\n"
      ],
      "metadata": {
        "colab": {
          "base_uri": "https://localhost:8080/"
        },
        "id": "1-c51vh1g0hT",
        "outputId": "e3dc46da-c3c7-44b0-b313-664fa2766349"
      },
      "execution_count": 126,
      "outputs": [
        {
          "output_type": "stream",
          "name": "stdout",
          "text": [
            "+---+----------+----+-------------+----------+-----------------+-------------+\n",
            "|FSA|      DATE|HOUR|CUSTOMER_TYPE|PRICE_PLAN|TOTAL_CONSUMPTION|PREMISE_COUNT|\n",
            "+---+----------+----+-------------+----------+-----------------+-------------+\n",
            "|L6R|2024-11-01|   1|  Residential|    Tiered|            697.2|         1177|\n",
            "|N6C|2024-11-01|   1|  Residential|    Tiered|            850.9|         1832|\n",
            "| N9|2024-11-01|   1|    SGS <50kW|  Retailer|           1773.6|          360|\n",
            "|M3K|2024-11-01|   1|    SGS <50kW|       TOU|            267.4|          283|\n",
            "|L7A|2024-11-01|   1|    SGS <50kW|  Retailer|            278.1|           58|\n",
            "+---+----------+----+-------------+----------+-----------------+-------------+\n",
            "only showing top 5 rows\n",
            "\n"
          ]
        }
      ]
    },
    {
      "cell_type": "code",
      "source": [
        "!wget -O PUB_HourlyConsumptionByFSA_202407_v1.csv \"https://drive.google.com/uc?id=1QKtvOUyN9RoXqsKHbScCZi7KAD1erEdY&export=download\""
      ],
      "metadata": {
        "colab": {
          "base_uri": "https://localhost:8080/"
        },
        "id": "s_HR7oxMiXXt",
        "outputId": "d77d4313-19bb-4889-c0f4-3c2c7cb17959"
      },
      "execution_count": 127,
      "outputs": [
        {
          "output_type": "stream",
          "name": "stdout",
          "text": [
            "--2025-02-16 16:32:02--  https://drive.google.com/uc?id=1QKtvOUyN9RoXqsKHbScCZi7KAD1erEdY&export=download\n",
            "Resolving drive.google.com (drive.google.com)... 74.125.195.113, 74.125.195.138, 74.125.195.139, ...\n",
            "Connecting to drive.google.com (drive.google.com)|74.125.195.113|:443... connected.\n",
            "HTTP request sent, awaiting response... 303 See Other\n",
            "Location: https://drive.usercontent.google.com/download?id=1QKtvOUyN9RoXqsKHbScCZi7KAD1erEdY&export=download [following]\n",
            "--2025-02-16 16:32:02--  https://drive.usercontent.google.com/download?id=1QKtvOUyN9RoXqsKHbScCZi7KAD1erEdY&export=download\n",
            "Resolving drive.usercontent.google.com (drive.usercontent.google.com)... 74.125.142.132, 2607:f8b0:400e:c08::84\n",
            "Connecting to drive.usercontent.google.com (drive.usercontent.google.com)|74.125.142.132|:443... connected.\n",
            "HTTP request sent, awaiting response... 200 OK\n",
            "Length: 13499690 (13M) [application/octet-stream]\n",
            "Saving to: ‘PUB_HourlyConsumptionByFSA_202407_v1.csv’\n",
            "\n",
            "PUB_HourlyConsumpti 100%[===================>]  12.87M  --.-KB/s    in 0.05s   \n",
            "\n",
            "2025-02-16 16:32:07 (263 MB/s) - ‘PUB_HourlyConsumptionByFSA_202407_v1.csv’ saved [13499690/13499690]\n",
            "\n"
          ]
        }
      ]
    },
    {
      "cell_type": "code",
      "source": [
        "!wget -O PUB_HourlyConsumptionByFSA_202404_v1.csv \"https://drive.google.com/uc?id=17skQsK2TkmvD5Pvioc1iO7gmWuaZWSYS&export=download\""
      ],
      "metadata": {
        "colab": {
          "base_uri": "https://localhost:8080/"
        },
        "id": "BNUlYko6jU53",
        "outputId": "b957122d-086b-40c4-fe9b-c7edc40f6d48"
      },
      "execution_count": 128,
      "outputs": [
        {
          "output_type": "stream",
          "name": "stdout",
          "text": [
            "--2025-02-16 16:32:12--  https://drive.google.com/uc?id=17skQsK2TkmvD5Pvioc1iO7gmWuaZWSYS&export=download\n",
            "Resolving drive.google.com (drive.google.com)... 74.125.195.113, 74.125.195.138, 74.125.195.139, ...\n",
            "Connecting to drive.google.com (drive.google.com)|74.125.195.113|:443... connected.\n",
            "HTTP request sent, awaiting response... 303 See Other\n",
            "Location: https://drive.usercontent.google.com/download?id=17skQsK2TkmvD5Pvioc1iO7gmWuaZWSYS&export=download [following]\n",
            "--2025-02-16 16:32:12--  https://drive.usercontent.google.com/download?id=17skQsK2TkmvD5Pvioc1iO7gmWuaZWSYS&export=download\n",
            "Resolving drive.usercontent.google.com (drive.usercontent.google.com)... 74.125.142.132, 2607:f8b0:400e:c08::84\n",
            "Connecting to drive.usercontent.google.com (drive.usercontent.google.com)|74.125.142.132|:443... connected.\n",
            "HTTP request sent, awaiting response... 200 OK\n",
            "Length: 12719729 (12M) [application/octet-stream]\n",
            "Saving to: ‘PUB_HourlyConsumptionByFSA_202404_v1.csv’\n",
            "\n",
            "PUB_HourlyConsumpti 100%[===================>]  12.13M  --.-KB/s    in 0.09s   \n",
            "\n",
            "2025-02-16 16:32:17 (142 MB/s) - ‘PUB_HourlyConsumptionByFSA_202404_v1.csv’ saved [12719729/12719729]\n",
            "\n"
          ]
        }
      ]
    },
    {
      "cell_type": "code",
      "source": [
        "!file PUB_HourlyConsumptionByFSA_202407_v1.csv"
      ],
      "metadata": {
        "colab": {
          "base_uri": "https://localhost:8080/"
        },
        "id": "AJolGr_KkIk4",
        "outputId": "4011286a-e22d-4788-bee3-a0fcb830dc7f"
      },
      "execution_count": 129,
      "outputs": [
        {
          "output_type": "stream",
          "name": "stdout",
          "text": [
            "PUB_HourlyConsumptionByFSA_202407_v1.csv: Zip archive data, at least v2.0 to extract, compression method=deflate\n"
          ]
        }
      ]
    },
    {
      "cell_type": "code",
      "source": [
        "!mv PUB_HourlyConsumptionByFSA_202407_v1.csv PUB_HourlyConsumptionByFSA_202407_v1.zip\n",
        "!unzip PUB_HourlyConsumptionByFSA_202407_v1.zip -d /content"
      ],
      "metadata": {
        "colab": {
          "base_uri": "https://localhost:8080/"
        },
        "id": "4xmYcJ5nl2Tz",
        "outputId": "2b5b1d45-3194-47e3-a00f-e4a6bff6ee00"
      },
      "execution_count": 130,
      "outputs": [
        {
          "output_type": "stream",
          "name": "stdout",
          "text": [
            "Archive:  PUB_HourlyConsumptionByFSA_202407_v1.zip\n",
            "  inflating: /content/PUB_HourlyConsumptionByFSA_202407_v1.csv  \n"
          ]
        }
      ]
    },
    {
      "cell_type": "code",
      "source": [
        "!tail -n +4 PUB_HourlyConsumptionByFSA_202407_v1.csv > july_data.csv"
      ],
      "metadata": {
        "id": "06tZSjqVlvDG"
      },
      "execution_count": 131,
      "outputs": []
    },
    {
      "cell_type": "code",
      "source": [
        "!file PUB_HourlyConsumptionByFSA_202404_v1.csv"
      ],
      "metadata": {
        "colab": {
          "base_uri": "https://localhost:8080/"
        },
        "id": "X5CWENyTkLCv",
        "outputId": "956bd241-39bc-476d-f15c-35d8e50eebed"
      },
      "execution_count": 132,
      "outputs": [
        {
          "output_type": "stream",
          "name": "stdout",
          "text": [
            "PUB_HourlyConsumptionByFSA_202404_v1.csv: Zip archive data, at least v2.0 to extract, compression method=deflate\n"
          ]
        }
      ]
    },
    {
      "cell_type": "code",
      "source": [
        "!mv PUB_HourlyConsumptionByFSA_202404_v1.csv PUB_HourlyConsumptionByFSA_202404_v1.zip\n",
        "!unzip PUB_HourlyConsumptionByFSA_202404_v1.zip -d /content"
      ],
      "metadata": {
        "colab": {
          "base_uri": "https://localhost:8080/"
        },
        "id": "btqxL5bLkXjy",
        "outputId": "9d8130dd-3f17-4d5e-b76b-ba79dada6fc9"
      },
      "execution_count": 133,
      "outputs": [
        {
          "output_type": "stream",
          "name": "stdout",
          "text": [
            "Archive:  PUB_HourlyConsumptionByFSA_202404_v1.zip\n",
            "  inflating: /content/PUB_HourlyConsumptionByFSA_202404_v1.csv  \n"
          ]
        }
      ]
    },
    {
      "cell_type": "code",
      "source": [
        "!tail -n +4 PUB_HourlyConsumptionByFSA_202404_v1.csv > april_data.csv"
      ],
      "metadata": {
        "id": "UJHXHoeLl-92"
      },
      "execution_count": 134,
      "outputs": []
    },
    {
      "cell_type": "code",
      "source": [
        "file_path_7 = os.path.abspath(\"july_data.csv\")\n",
        "file_path_4 = os.path.abspath(\"april_data.csv\")\n"
      ],
      "metadata": {
        "id": "ebHsbyhHmFVx"
      },
      "execution_count": 135,
      "outputs": []
    },
    {
      "cell_type": "code",
      "source": [
        "df_7 = spark.read.csv(file_path_7, sep=\",\", inferSchema=True, header=True)\n",
        "df_4 = spark.read.csv(file_path_4, sep=\",\", inferSchema=True, header=True)\n",
        "\n",
        "# Show the first few rows of each DataFrame\n",
        "print(\"Month 7 Data:\")\n",
        "df_7.show(5)\n",
        "\n",
        "print(\"Month 4 Data:\")\n",
        "df_4.show(5)\n"
      ],
      "metadata": {
        "colab": {
          "base_uri": "https://localhost:8080/"
        },
        "id": "I0GqiHxQmGHR",
        "outputId": "7ed95667-bc83-46ce-886e-fe3151b0628c"
      },
      "execution_count": 136,
      "outputs": [
        {
          "output_type": "stream",
          "name": "stdout",
          "text": [
            "Month 7 Data:\n",
            "+---+----------+----+-------------+----------+-----------------+-------------+\n",
            "|FSA|      DATE|HOUR|CUSTOMER_TYPE|PRICE_PLAN|TOTAL_CONSUMPTION|PREMISE_COUNT|\n",
            "+---+----------+----+-------------+----------+-----------------+-------------+\n",
            "|M1V|2024-07-01|   1|    SGS <50kW|    Tiered|           3125.6|         1716|\n",
            "|L7M|2024-07-01|   1|    SGS <50kW|       TOU|           1563.8|          683|\n",
            "|L9W|2024-07-01|   1|  Residential|    Tiered|            925.0|         1232|\n",
            "|M2J|2024-07-01|   1|    SGS <50kW|    Tiered|            598.0|          267|\n",
            "|K2C|2024-07-01|   1|  Residential|       TOU|           5095.2|         7714|\n",
            "+---+----------+----+-------------+----------+-----------------+-------------+\n",
            "only showing top 5 rows\n",
            "\n",
            "Month 4 Data:\n",
            "+---+----------+----+-------------+----------+-----------------+-------------+\n",
            "|FSA|      DATE|HOUR|CUSTOMER_TYPE|PRICE_PLAN|TOTAL_CONSUMPTION|PREMISE_COUNT|\n",
            "+---+----------+----+-------------+----------+-----------------+-------------+\n",
            "|K7V|2024-04-01|   1|    SGS <50kW|       TOU|            956.2|          500|\n",
            "|N0P|2024-04-01|   1|    SGS <50kW|  Retailer|           1036.2|          248|\n",
            "|L6H|2024-04-01|   1|  Residential|    Tiered|           1126.1|         2248|\n",
            "|L0G|2024-04-01|   1|  Residential|    Tiered|           1615.9|         1932|\n",
            "|M9R|2024-04-01|   1|    SGS <50kW|       TOU|             24.8|           26|\n",
            "+---+----------+----+-------------+----------+-----------------+-------------+\n",
            "only showing top 5 rows\n",
            "\n"
          ]
        }
      ]
    },
    {
      "cell_type": "code",
      "source": [
        "# combine all data frames\n",
        "df = df_11.union(df_7).union(df_4)\n",
        "df.show(5)\n"
      ],
      "metadata": {
        "colab": {
          "base_uri": "https://localhost:8080/"
        },
        "id": "Gh3KHyhNmxXY",
        "outputId": "8bff65b8-ce1e-4b2f-debd-608857702387"
      },
      "execution_count": 137,
      "outputs": [
        {
          "output_type": "stream",
          "name": "stdout",
          "text": [
            "+---+----------+----+-------------+----------+-----------------+-------------+\n",
            "|FSA|      DATE|HOUR|CUSTOMER_TYPE|PRICE_PLAN|TOTAL_CONSUMPTION|PREMISE_COUNT|\n",
            "+---+----------+----+-------------+----------+-----------------+-------------+\n",
            "|L6R|2024-11-01|   1|  Residential|    Tiered|            697.2|         1177|\n",
            "|N6C|2024-11-01|   1|  Residential|    Tiered|            850.9|         1832|\n",
            "| N9|2024-11-01|   1|    SGS <50kW|  Retailer|           1773.6|          360|\n",
            "|M3K|2024-11-01|   1|    SGS <50kW|       TOU|            267.4|          283|\n",
            "|L7A|2024-11-01|   1|    SGS <50kW|  Retailer|            278.1|           58|\n",
            "+---+----------+----+-------------+----------+-----------------+-------------+\n",
            "only showing top 5 rows\n",
            "\n"
          ]
        }
      ]
    },
    {
      "cell_type": "code",
      "source": [
        "print(f\"Total rows in 11 dataset: {df_11.count()}\")\n",
        "print(f\"Total rows in 7 dataset: {df_7.count()}\")\n",
        "print(f\"Total rows in 4 dataset: {df_4.count()}\")"
      ],
      "metadata": {
        "colab": {
          "base_uri": "https://localhost:8080/"
        },
        "id": "IScfyMgynSaY",
        "outputId": "65cd4d56-ea93-4927-c5b1-3c7be5ff61d8"
      },
      "execution_count": 140,
      "outputs": [
        {
          "output_type": "stream",
          "name": "stdout",
          "text": [
            "Total rows in 11 dataset: 1382486\n",
            "Total rows in 7 dataset: 1436527\n",
            "Total rows in 4 dataset: 1361441\n"
          ]
        }
      ]
    },
    {
      "cell_type": "code",
      "source": [
        "print(f\"Total rows in combined dataset: {df.count()}\")\n"
      ],
      "metadata": {
        "colab": {
          "base_uri": "https://localhost:8080/"
        },
        "id": "iuUQVlDjnHAG",
        "outputId": "12c6b06b-eb41-4e83-ee6b-541396585578"
      },
      "execution_count": 138,
      "outputs": [
        {
          "output_type": "stream",
          "name": "stdout",
          "text": [
            "Total rows in combined dataset: 4180454\n"
          ]
        }
      ]
    },
    {
      "cell_type": "code",
      "source": [
        "df.printSchema()\n"
      ],
      "metadata": {
        "colab": {
          "base_uri": "https://localhost:8080/"
        },
        "id": "q3VxOnsknj6D",
        "outputId": "7ae49050-7a70-4f35-9b10-eb79145a2a15"
      },
      "execution_count": 141,
      "outputs": [
        {
          "output_type": "stream",
          "name": "stdout",
          "text": [
            "root\n",
            " |-- FSA: string (nullable = true)\n",
            " |-- DATE: date (nullable = true)\n",
            " |-- HOUR: integer (nullable = true)\n",
            " |-- CUSTOMER_TYPE: string (nullable = true)\n",
            " |-- PRICE_PLAN: string (nullable = true)\n",
            " |-- TOTAL_CONSUMPTION: double (nullable = true)\n",
            " |-- PREMISE_COUNT: integer (nullable = true)\n",
            "\n"
          ]
        }
      ]
    },
    {
      "cell_type": "code",
      "source": [
        "# Save all data as Parquet\n",
        "df_11.write.parquet(\"data_november.parquet\")\n",
        "df_7.write.parquet(\"data_july.parquet\")\n",
        "df_4.write.parquet(\"data_april.parquet\")\n"
      ],
      "metadata": {
        "id": "nH5jDK_2oRpY"
      },
      "execution_count": 142,
      "outputs": []
    },
    {
      "cell_type": "code",
      "source": [
        "df.write.parquet(\"combined_data.parquet\")\n"
      ],
      "metadata": {
        "id": "fZUTKObzoVCb"
      },
      "execution_count": 143,
      "outputs": []
    },
    {
      "cell_type": "code",
      "source": [
        "df_november = spark.read.parquet(\"data_november.parquet\")\n",
        "df_july = spark.read.parquet(\"data_july.parquet\")\n",
        "df_april = spark.read.parquet(\"data_april.parquet\")\n",
        "\n",
        "# load the combined dataset\n",
        "df = spark.read.parquet(\"combined_data.parquet\")\n",
        "\n",
        "# Verify the data\n",
        "df.show(5)\n",
        "df.printSchema()\n"
      ],
      "metadata": {
        "id": "uqecLyLqodP1"
      },
      "execution_count": null,
      "outputs": []
    },
    {
      "cell_type": "code",
      "source": [
        "# Count missing or null values for each column\n",
        "numeric_cols = ['TOTAL_CONSUMPTION', 'PREMISE_COUNT']\n",
        "\n",
        "df.select([\n",
        "    count(when(col(c).isNull() | isnan(col(c)), c)).alias(c)\n",
        "    for c in numeric_cols\n",
        "]).show()\n"
      ],
      "metadata": {
        "colab": {
          "base_uri": "https://localhost:8080/"
        },
        "id": "fzHQ7civpy5s",
        "outputId": "d68ced0a-e1f1-4909-acd5-a2954b330d92"
      },
      "execution_count": 146,
      "outputs": [
        {
          "output_type": "stream",
          "name": "stdout",
          "text": [
            "+-----------------+-------------+\n",
            "|TOTAL_CONSUMPTION|PREMISE_COUNT|\n",
            "+-----------------+-------------+\n",
            "|                0|            0|\n",
            "+-----------------+-------------+\n",
            "\n"
          ]
        }
      ]
    },
    {
      "cell_type": "code",
      "source": [
        "# Add new column to calculate average consumption per premise\n",
        "from pyspark.sql.functions import col\n",
        "\n",
        "df = df.withColumn(\"AVG_CONSUMPTION_PER_PREMISE\", col(\"TOTAL_CONSUMPTION\") / col(\"PREMISE_COUNT\"))\n",
        "df.show(5)\n"
      ],
      "metadata": {
        "colab": {
          "base_uri": "https://localhost:8080/"
        },
        "id": "N6S75ZAGp0xU",
        "outputId": "0becfe92-9b06-4438-b4df-913e57c25d72"
      },
      "execution_count": 147,
      "outputs": [
        {
          "output_type": "stream",
          "name": "stdout",
          "text": [
            "+---+----------+----+-------------+----------+-----------------+-------------+---------------------------+\n",
            "|FSA|      DATE|HOUR|CUSTOMER_TYPE|PRICE_PLAN|TOTAL_CONSUMPTION|PREMISE_COUNT|AVG_CONSUMPTION_PER_PREMISE|\n",
            "+---+----------+----+-------------+----------+-----------------+-------------+---------------------------+\n",
            "|L6R|2024-11-01|   1|  Residential|    Tiered|            697.2|         1177|         0.5923534409515718|\n",
            "|N6C|2024-11-01|   1|  Residential|    Tiered|            850.9|         1832|         0.4644650655021834|\n",
            "| N9|2024-11-01|   1|    SGS <50kW|  Retailer|           1773.6|          360|          4.926666666666667|\n",
            "|M3K|2024-11-01|   1|    SGS <50kW|       TOU|            267.4|          283|         0.9448763250883392|\n",
            "|L7A|2024-11-01|   1|    SGS <50kW|  Retailer|            278.1|           58|          4.794827586206897|\n",
            "+---+----------+----+-------------+----------+-----------------+-------------+---------------------------+\n",
            "only showing top 5 rows\n",
            "\n"
          ]
        }
      ]
    },
    {
      "cell_type": "code",
      "source": [
        "# Extract useful time-related features from the DATE column\n",
        "from pyspark.sql.functions import year, month, dayofmonth\n",
        "\n",
        "df = df.withColumn(\"YEAR\", year(df[\"DATE\"]))\n",
        "df = df.withColumn(\"MONTH\", month(df[\"DATE\"]))\n",
        "df = df.withColumn(\"DAY\", dayofmonth(df[\"DATE\"]))\n",
        "df.show(5)\n"
      ],
      "metadata": {
        "colab": {
          "base_uri": "https://localhost:8080/"
        },
        "id": "rVXnsOy9rgjC",
        "outputId": "4bd6e079-25db-4b23-dbed-da479490a656"
      },
      "execution_count": 148,
      "outputs": [
        {
          "output_type": "stream",
          "name": "stdout",
          "text": [
            "+---+----------+----+-------------+----------+-----------------+-------------+---------------------------+----+-----+---+\n",
            "|FSA|      DATE|HOUR|CUSTOMER_TYPE|PRICE_PLAN|TOTAL_CONSUMPTION|PREMISE_COUNT|AVG_CONSUMPTION_PER_PREMISE|YEAR|MONTH|DAY|\n",
            "+---+----------+----+-------------+----------+-----------------+-------------+---------------------------+----+-----+---+\n",
            "|L6R|2024-11-01|   1|  Residential|    Tiered|            697.2|         1177|         0.5923534409515718|2024|   11|  1|\n",
            "|N6C|2024-11-01|   1|  Residential|    Tiered|            850.9|         1832|         0.4644650655021834|2024|   11|  1|\n",
            "| N9|2024-11-01|   1|    SGS <50kW|  Retailer|           1773.6|          360|          4.926666666666667|2024|   11|  1|\n",
            "|M3K|2024-11-01|   1|    SGS <50kW|       TOU|            267.4|          283|         0.9448763250883392|2024|   11|  1|\n",
            "|L7A|2024-11-01|   1|    SGS <50kW|  Retailer|            278.1|           58|          4.794827586206897|2024|   11|  1|\n",
            "+---+----------+----+-------------+----------+-----------------+-------------+---------------------------+----+-----+---+\n",
            "only showing top 5 rows\n",
            "\n"
          ]
        }
      ]
    },
    {
      "cell_type": "code",
      "source": [
        "df.write.parquet(\"cleaned_data.parquet\")\n"
      ],
      "metadata": {
        "id": "vlFzmzv7sKI3"
      },
      "execution_count": 149,
      "outputs": []
    },
    {
      "cell_type": "code",
      "source": [
        "cleaned_df = spark.read.parquet(\"cleaned_data.parquet\")\n",
        "cleaned_df.show(5)"
      ],
      "metadata": {
        "colab": {
          "base_uri": "https://localhost:8080/"
        },
        "id": "7xQ_yi_mr8rF",
        "outputId": "b653c4ec-4eb6-4408-c409-27a5ae716e8e"
      },
      "execution_count": 150,
      "outputs": [
        {
          "output_type": "stream",
          "name": "stdout",
          "text": [
            "+---+----------+----+-------------+----------+-----------------+-------------+---------------------------+----+-----+---+\n",
            "|FSA|      DATE|HOUR|CUSTOMER_TYPE|PRICE_PLAN|TOTAL_CONSUMPTION|PREMISE_COUNT|AVG_CONSUMPTION_PER_PREMISE|YEAR|MONTH|DAY|\n",
            "+---+----------+----+-------------+----------+-----------------+-------------+---------------------------+----+-----+---+\n",
            "|M1V|2024-07-01|   1|    SGS <50kW|    Tiered|           3125.6|         1716|         1.8214452214452215|2024|    7|  1|\n",
            "|L7M|2024-07-01|   1|    SGS <50kW|       TOU|           1563.8|          683|         2.2896046852122987|2024|    7|  1|\n",
            "|L9W|2024-07-01|   1|  Residential|    Tiered|            925.0|         1232|         0.7508116883116883|2024|    7|  1|\n",
            "|M2J|2024-07-01|   1|    SGS <50kW|    Tiered|            598.0|          267|         2.2397003745318353|2024|    7|  1|\n",
            "|K2C|2024-07-01|   1|  Residential|       TOU|           5095.2|         7714|         0.6605133523463832|2024|    7|  1|\n",
            "+---+----------+----+-------------+----------+-----------------+-------------+---------------------------+----+-----+---+\n",
            "only showing top 5 rows\n",
            "\n"
          ]
        }
      ]
    },
    {
      "cell_type": "code",
      "source": [
        "# Total consumption by FSA\n",
        "cleaned_df.groupBy(\"FSA\").sum(\"TOTAL_CONSUMPTION\").orderBy(\"sum(TOTAL_CONSUMPTION)\", ascending=False).show()\n"
      ],
      "metadata": {
        "colab": {
          "base_uri": "https://localhost:8080/"
        },
        "id": "sUMxMW_DsT0Y",
        "outputId": "7f1fb069-fb5c-4359-fae5-793d566de51d"
      },
      "execution_count": 153,
      "outputs": [
        {
          "output_type": "stream",
          "name": "stdout",
          "text": [
            "+---+----------------------+\n",
            "|FSA|sum(TOTAL_CONSUMPTION)|\n",
            "+---+----------------------+\n",
            "| L3|   1.963350712999995E8|\n",
            "| L2|  1.9387394350000045E8|\n",
            "|K0K|   1.744444611000002E8|\n",
            "|K0A|  1.5150941259999973E8|\n",
            "|N0B|  1.3261266170000006E8|\n",
            "| K9|  1.2813028050000003E8|\n",
            "|N0G|  1.2214559329999964E8|\n",
            "|K0L|  1.1783542199999988E8|\n",
            "| P0|  1.1212862569999984E8|\n",
            "|L0R|  1.0869273860000002E8|\n",
            "|N0M|  1.0379143969999993E8|\n",
            "|K0M|   9.777870250000003E7|\n",
            "|L4N|   8.978277319999997E7|\n",
            "|L0S|   8.860211680000019E7|\n",
            "|N0H|   8.687804739999993E7|\n",
            "|L7A|    7.68201862999999E7|\n",
            "|L9T|   7.643831489999999E7|\n",
            "|N0L|   7.382845870000014E7|\n",
            "|N0P|   7.370259110000011E7|\n",
            "|K0C|   7.290410710000011E7|\n",
            "+---+----------------------+\n",
            "only showing top 20 rows\n",
            "\n"
          ]
        }
      ]
    },
    {
      "cell_type": "code",
      "source": [
        "# Consumption Trends Over Time\n",
        "cleaned_df.groupBy(\"DATE\").sum(\"TOTAL_CONSUMPTION\").orderBy(\"DATE\").show()\n"
      ],
      "metadata": {
        "colab": {
          "base_uri": "https://localhost:8080/"
        },
        "id": "__hPAnhYtNTM",
        "outputId": "3c595ced-d3f4-4822-8ed1-f1e657a5cb49"
      },
      "execution_count": 157,
      "outputs": [
        {
          "output_type": "stream",
          "name": "stdout",
          "text": [
            "+----------+----------------------+\n",
            "|      DATE|sum(TOTAL_CONSUMPTION)|\n",
            "+----------+----------------------+\n",
            "|2024-04-01|   1.306135009999986E8|\n",
            "|2024-04-02|  1.3364014919999984E8|\n",
            "|2024-04-03|  1.3763896589999908E8|\n",
            "|2024-04-04|  1.4010338579999977E8|\n",
            "|2024-04-05|   1.382504514999998E8|\n",
            "|2024-04-06|  1.3253077459999958E8|\n",
            "|2024-04-07|   1.278725662000003E8|\n",
            "|2024-04-08|  1.2383743240000027E8|\n",
            "|2024-04-09|  1.1767297830000104E8|\n",
            "|2024-04-10|  1.1342947549999955E8|\n",
            "|2024-04-11|   1.210748277999998E8|\n",
            "|2024-04-12|  1.2502703879999946E8|\n",
            "|2024-04-13|  1.3369126979999961E8|\n",
            "|2024-04-14|  1.2808154240000091E8|\n",
            "|2024-04-15|  1.1816901529999965E8|\n",
            "|2024-04-16|  1.1662494509999979E8|\n",
            "|2024-04-17|  1.2688261929999976E8|\n",
            "|2024-04-18|  1.2394356249999923E8|\n",
            "|2024-04-19|   1.229742284000008E8|\n",
            "|2024-04-20|  1.3332417320000069E8|\n",
            "+----------+----------------------+\n",
            "only showing top 20 rows\n",
            "\n"
          ]
        }
      ]
    },
    {
      "cell_type": "code",
      "source": [
        "# Consumption by Customer Type\n",
        "cleaned_df.groupBy(\"CUSTOMER_TYPE\").sum(\"TOTAL_CONSUMPTION\").orderBy(\"sum(TOTAL_CONSUMPTION)\", ascending=False).show()\n"
      ],
      "metadata": {
        "colab": {
          "base_uri": "https://localhost:8080/"
        },
        "id": "JnP9_4h1tkgv",
        "outputId": "58037d12-f63b-456e-91a7-f62c06de374e"
      },
      "execution_count": 158,
      "outputs": [
        {
          "output_type": "stream",
          "name": "stdout",
          "text": [
            "+-------------+----------------------+\n",
            "|CUSTOMER_TYPE|sum(TOTAL_CONSUMPTION)|\n",
            "+-------------+----------------------+\n",
            "|  Residential|  1.047162833740033...|\n",
            "|    SGS <50kW|  2.7592963018998985E9|\n",
            "+-------------+----------------------+\n",
            "\n"
          ]
        }
      ]
    },
    {
      "cell_type": "code",
      "source": [
        "from google.colab import drive\n",
        "drive.mount('/content/drive')\n"
      ],
      "metadata": {
        "colab": {
          "base_uri": "https://localhost:8080/"
        },
        "id": "fG9M1oL6xpfW",
        "outputId": "a1f06802-781d-47e4-d74f-02288226b3aa"
      },
      "execution_count": 162,
      "outputs": [
        {
          "output_type": "stream",
          "name": "stdout",
          "text": [
            "Mounted at /content/drive\n"
          ]
        }
      ]
    },
    {
      "cell_type": "code",
      "source": [
        "cleaned_df.show(5)"
      ],
      "metadata": {
        "colab": {
          "base_uri": "https://localhost:8080/"
        },
        "id": "4en601SsyIVR",
        "outputId": "66acb309-a13a-4efe-9db9-5258dded5131"
      },
      "execution_count": 163,
      "outputs": [
        {
          "output_type": "stream",
          "name": "stdout",
          "text": [
            "+---+----------+----+-------------+----------+-----------------+-------------+---------------------------+----+-----+---+\n",
            "|FSA|      DATE|HOUR|CUSTOMER_TYPE|PRICE_PLAN|TOTAL_CONSUMPTION|PREMISE_COUNT|AVG_CONSUMPTION_PER_PREMISE|YEAR|MONTH|DAY|\n",
            "+---+----------+----+-------------+----------+-----------------+-------------+---------------------------+----+-----+---+\n",
            "|M1V|2024-07-01|   1|    SGS <50kW|    Tiered|           3125.6|         1716|         1.8214452214452215|2024|    7|  1|\n",
            "|L7M|2024-07-01|   1|    SGS <50kW|       TOU|           1563.8|          683|         2.2896046852122987|2024|    7|  1|\n",
            "|L9W|2024-07-01|   1|  Residential|    Tiered|            925.0|         1232|         0.7508116883116883|2024|    7|  1|\n",
            "|M2J|2024-07-01|   1|    SGS <50kW|    Tiered|            598.0|          267|         2.2397003745318353|2024|    7|  1|\n",
            "|K2C|2024-07-01|   1|  Residential|       TOU|           5095.2|         7714|         0.6605133523463832|2024|    7|  1|\n",
            "+---+----------+----+-------------+----------+-----------------+-------------+---------------------------+----+-----+---+\n",
            "only showing top 5 rows\n",
            "\n"
          ]
        }
      ]
    },
    {
      "cell_type": "code",
      "source": [
        "print(f\"Total rows in combined dataset: {cleaned_df.count()}\")"
      ],
      "metadata": {
        "colab": {
          "base_uri": "https://localhost:8080/"
        },
        "id": "liBQeXbWyWQk",
        "outputId": "80f7dccd-6abf-49ff-820d-f3c8926b150d"
      },
      "execution_count": 164,
      "outputs": [
        {
          "output_type": "stream",
          "name": "stdout",
          "text": [
            "Total rows in combined dataset: 4180454\n"
          ]
        }
      ]
    },
    {
      "cell_type": "code",
      "source": [
        "# Save the cleaned data to Google Drive\n",
        "cleaned_df.write.parquet(\"/content/drive/My Drive/TeamFiles/cleaned_data.parquet\")\n"
      ],
      "metadata": {
        "id": "eVBh3ucjxqmx"
      },
      "execution_count": 165,
      "outputs": []
    },
    {
      "cell_type": "code",
      "source": [],
      "metadata": {
        "id": "YY__Chr3ycbh"
      },
      "execution_count": null,
      "outputs": []
    }
  ]
}